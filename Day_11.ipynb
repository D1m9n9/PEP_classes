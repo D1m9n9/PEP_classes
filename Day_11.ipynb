{
 "cells": [
  {
   "cell_type": "markdown",
   "id": "8a37d66a-9a86-42e2-b458-d37a8c762240",
   "metadata": {},
   "source": [
    "# Exception Handling"
   ]
  },
  {
   "cell_type": "code",
   "execution_count": 1,
   "id": "b2f8b5ac-c2b9-444c-ad74-1ed90d79ad27",
   "metadata": {},
   "outputs": [
    {
     "name": "stdout",
     "output_type": "stream",
     "text": [
      "Error: Division by zero is not allowed\n"
     ]
    }
   ],
   "source": [
    "#division by zero(0)\n",
    "a = 10\n",
    "b = 0  \n",
    "\n",
    "try:\n",
    "    result = a / b\n",
    "    print(\"Result:\", result)\n",
    "except ZeroDivisionError:\n",
    "    print(\"Error: Division by zero is not allowed\")"
   ]
  },
  {
   "cell_type": "code",
   "execution_count": 6,
   "id": "bb0ad23c-b419-4b32-91bc-f720fa61f102",
   "metadata": {},
   "outputs": [
    {
     "name": "stdin",
     "output_type": "stream",
     "text": [
      "Enter first number:  67\n",
      "Enter second number:  7\n"
     ]
    },
    {
     "name": "stdout",
     "output_type": "stream",
     "text": [
      "Division result: 9.571428571428571\n"
     ]
    }
   ],
   "source": [
    "a = float(input(\"Enter first number: \"))\n",
    "b = float(input(\"Enter second number: \"))\n",
    "\n",
    "try:\n",
    "    result = a / b\n",
    "    print(\"Division result:\", result)\n",
    "except ZeroDivisionError:\n",
    "    print(\"Error: Cannot divide by zero!\")"
   ]
  },
  {
   "cell_type": "code",
   "execution_count": 5,
   "id": "e9b8f117-26b7-4a8f-a776-69d215d6ced1",
   "metadata": {},
   "outputs": [
    {
     "name": "stdin",
     "output_type": "stream",
     "text": [
      "Enter first number:  67\n",
      "Enter second number:  9\n"
     ]
    },
    {
     "name": "stdout",
     "output_type": "stream",
     "text": [
      "Division result: 7.444444444444445\n"
     ]
    }
   ],
   "source": [
    "a = float(input(\"Enter first number: \"))\n",
    "b = float(input(\"Enter second number: \"))\n",
    "\n",
    "try:\n",
    "    result = a / b\n",
    "except ZeroDivisionError:\n",
    "    print(\"Error: Cannot divide by zero!\")\n",
    "else:\n",
    "    print(\"Division result:\", result)"
   ]
  },
  {
   "cell_type": "code",
   "execution_count": 7,
   "id": "a0f8a91d-ed2b-413c-83f9-09caed75b4dc",
   "metadata": {},
   "outputs": [
    {
     "name": "stdout",
     "output_type": "stream",
     "text": [
      "Attempting division...\n",
      "Division result: 5.0\n",
      "Operation completed successfully!\n",
      "This 'finally' block always executes, regardless of whether an exception occurred or not.\n",
      "Execution complete. Resources cleaned up.\n"
     ]
    }
   ],
   "source": [
    "\n",
    "a = 10\n",
    "b = \"2\"  \n",
    "\n",
    "try:\n",
    "    print(\"Attempting division...\")\n",
    "    result = float(a) / float(b)\n",
    "    print(\"Division result:\", result)\n",
    "\n",
    "except ZeroDivisionError:\n",
    "    print(\"Error: Cannot divide by zero!\")\n",
    "\n",
    "except ValueError:\n",
    "    print(\"Error: Please provide valid numbers!\")\n",
    "\n",
    "except TypeError:\n",
    "    print(\"Error: Unsupported operand type(s) for division!\")\n",
    "\n",
    "except Exception as e:\n",
    "    print(f\"An unexpected error occurred: {type(e).__name__} - {e}\")\n",
    "\n",
    "else:\n",
    "    print(\"Operation completed successfully!\")\n",
    "\n",
    "finally:\n",
    "    print(\"This 'finally' block always executes, regardless of whether an exception occurred or not.\")\n",
    "    print(\"Execution complete. Resources cleaned up.\")"
   ]
  },
  {
   "cell_type": "code",
   "execution_count": 8,
   "id": "e80c8923-cbac-4fa1-bb27-7bb32ce088ee",
   "metadata": {},
   "outputs": [
    {
     "name": "stdin",
     "output_type": "stream",
     "text": [
      "Enter your age:  24\n"
     ]
    },
    {
     "name": "stdout",
     "output_type": "stream",
     "text": [
      "Great! You will get match details shortly.\n"
     ]
    }
   ],
   "source": [
    "class TooYoungException(Exception):\n",
    "    def __init__(self, arg):\n",
    "        self.arg = arg\n",
    "\n",
    "class TooOldException(Exception):\n",
    "    def __init__(self, arg):\n",
    "        self.arg = arg\n",
    "\n",
    "try:\n",
    "    age = int(input(\"Enter your age: \"))\n",
    "    \n",
    "    if age < 18:\n",
    "        raise TooYoungException(\"Please wait some time you will get best match soon.\")\n",
    "    elif age > 60:\n",
    "        raise TooOldException(\"Your age is too old, you will get match details soon by email.\")\n",
    "    else:\n",
    "        print(\"Great! You will get match details shortly.\")\n",
    "\n",
    "except TooYoungException as e:\n",
    "    print(e.arg)\n",
    "except TooOldException as e:\n",
    "    print(e.arg)\n",
    "except ValueError:\n",
    "    print(\"Please enter a valid number for age!\")"
   ]
  },
  {
   "cell_type": "markdown",
   "id": "650aa73a-aa7a-462f-9a2b-0696a6cd417e",
   "metadata": {},
   "source": [
    "# File Handling"
   ]
  },
  {
   "cell_type": "code",
   "execution_count": 14,
   "id": "855bfe8f-1c1c-47ce-af94-9a76163952c7",
   "metadata": {},
   "outputs": [
    {
     "name": "stdout",
     "output_type": "stream",
     "text": [
      "Writing success.\n",
      "\n",
      "Reading file contents:\n",
      "\n",
      "Method 2 - readline():\n",
      "Hello \n",
      "Python Training \n",
      "File Handling"
     ]
    }
   ],
   "source": [
    "f = open(\"student.txt\", mode = 'w')\n",
    "f.write(\"Hello \\n\")\n",
    "f.write(\"Python Training \\n\")\n",
    "f.write(\"File Handling\")\n",
    "f.close()\n",
    "print('Writing success.')\n",
    "\n",
    "print(\"\\nReading file contents:\")\n",
    "f = open(\"student.txt\", mode='r')\n",
    "print(\"readline() method:\")\n",
    "print(f.readline(), end='')  \n",
    "print(f.readline(), end='')  \n",
    "print(f.readline(), end='') \n",
    "f.close()\n",
    "\n"
   ]
  },
  {
   "cell_type": "code",
   "execution_count": 15,
   "id": "14cc44c9-ff5b-427b-9a6a-dcc924b2d184",
   "metadata": {},
   "outputs": [
    {
     "name": "stdin",
     "output_type": "stream",
     "text": [
      "enter your name: damini\n",
      "enter your age: 22\n"
     ]
    },
    {
     "name": "stdout",
     "output_type": "stream",
     "text": [
      "Saved!\n"
     ]
    }
   ],
   "source": [
    "# name and age at run time from user and store it in the file \n",
    "name = input(\"enter your name:\")\n",
    "age = input(\"enter your age:\")\n",
    "\n",
    "open(\"data.txt\", \"a\").write(f\"{name},{age}\\n\")\n",
    "print(\"Saved!\")"
   ]
  },
  {
   "cell_type": "code",
   "execution_count": null,
   "id": "08172795-41d1-4209-8c07-dfa0a7532ac8",
   "metadata": {},
   "outputs": [],
   "source": []
  }
 ],
 "metadata": {
  "kernelspec": {
   "display_name": "Python 3 (ipykernel)",
   "language": "python",
   "name": "python3"
  },
  "language_info": {
   "codemirror_mode": {
    "name": "ipython",
    "version": 3
   },
   "file_extension": ".py",
   "mimetype": "text/x-python",
   "name": "python",
   "nbconvert_exporter": "python",
   "pygments_lexer": "ipython3",
   "version": "3.12.7"
  }
 },
 "nbformat": 4,
 "nbformat_minor": 5
}
