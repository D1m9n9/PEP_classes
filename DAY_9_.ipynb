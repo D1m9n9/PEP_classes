{
 "cells": [
  {
   "cell_type": "code",
   "execution_count": null,
   "id": "2beeb8bd-c86d-41c3-93a7-766a5d9ef94b",
   "metadata": {},
   "outputs": [],
   "source": [
    "#\n",
    "class calculation():\n",
    "    def add(self, a,b):\n",
    "        sum = a+b\n",
    "        return sum\n",
    "        "
   ]
  },
  {
   "cell_type": "code",
   "execution_count": 1,
   "id": "4cadf5b5-f0d0-44a4-8cf7-c4d39187b751",
   "metadata": {},
   "outputs": [
    {
     "name": "stdout",
     "output_type": "stream",
     "text": [
      "Simple Calculator\n",
      "1. Addition\n",
      "2. Subtraction\n",
      "3. Multiplication\n",
      "4. Division\n"
     ]
    },
    {
     "name": "stdin",
     "output_type": "stream",
     "text": [
      "Enter choice (1/2/3/4):  3\n",
      "Enter first number:  67\n",
      "Enter second number:  5\n"
     ]
    },
    {
     "name": "stdout",
     "output_type": "stream",
     "text": [
      "Result: 67.0 * 5.0 = 335.0\n"
     ]
    }
   ],
   "source": [
    "def simple_calculator():\n",
    "    print(\"Simple Calculator\")\n",
    "    print(\"1. Addition\")\n",
    "    print(\"2. Subtraction\")\n",
    "    print(\"3. Multiplication\")\n",
    "    print(\"4. Division\")\n",
    "    \n",
    "    choice = input(\"Enter choice (1/2/3/4): \")\n",
    "    \n",
    "    if choice in ('1', '2', '3', '4'):\n",
    "        num1 = float(input(\"Enter first number: \"))\n",
    "        num2 = float(input(\"Enter second number: \"))\n",
    "        \n",
    "        if choice == '1':\n",
    "            print(f\"Result: {num1} + {num2} = {num1 + num2}\")\n",
    "        elif choice == '2':\n",
    "            print(f\"Result: {num1} - {num2} = {num1 - num2}\")\n",
    "        elif choice == '3':\n",
    "            print(f\"Result: {num1} * {num2} = {num1 * num2}\")\n",
    "        elif choice == '4':\n",
    "            if num2 != 0:\n",
    "                print(f\"Result: {num1} / {num2} = {num1 / num2}\")\n",
    "            else:\n",
    "                print(\"Error! Division by zero.\")\n",
    "    else:\n",
    "        print(\"Invalid Input\")\n",
    "\n",
    "simple_calculator()"
   ]
  },
  {
   "cell_type": "code",
   "execution_count": 5,
   "id": "8ee2ebd9-b00d-4127-8e57-41b76ec066f6",
   "metadata": {},
   "outputs": [
    {
     "name": "stdout",
     "output_type": "stream",
     "text": [
      "Simple Calculator\n",
      "1. Addition\n",
      "2. Subtraction\n",
      "3. Multiplication\n",
      "4. Division\n"
     ]
    },
    {
     "name": "stdin",
     "output_type": "stream",
     "text": [
      "Enter choice (1/2/3/4):  3\n",
      "Enter first number:  89\n",
      "Enter second number:  10\n"
     ]
    },
    {
     "name": "stdout",
     "output_type": "stream",
     "text": [
      "Result: 89.0 * 10.0 = 890.0\n"
     ]
    }
   ],
   "source": [
    "print(\"Simple Calculator\")\n",
    "print(\"1. Addition\")\n",
    "print(\"2. Subtraction\")\n",
    "print(\"3. Multiplication\")\n",
    "print(\"4. Division\")\n",
    "    \n",
    "choice = input(\"Enter choice (1/2/3/4): \")\n",
    "if choice in ('1', '2', '3', '4'):\n",
    "    num1 = float(input(\"Enter first number: \"))\n",
    "    num2 = float(input(\"Enter second number: \"))\n",
    "    if choice == '1':\n",
    "        print(f\"Result: {num1} + {num2} = {num1 + num2}\")\n",
    "    elif choice == '2':\n",
    "        print(f\"Result: {num1} - {num2} = {num1 - num2}\")\n",
    "    elif choice == '3':\n",
    "        print(f\"Result: {num1} * {num2} = {num1 * num2}\")\n",
    "    elif choice == '4':\n",
    "        if num2 != 0:\n",
    "            print(f\"Result: {num1} / {num2} = {num1 / num2}\")\n",
    "        else:\n",
    "            print(\"Error! Division by zero.\")\n",
    "else:\n",
    "    print(\"Invalid Input\")"
   ]
  },
  {
   "cell_type": "code",
   "execution_count": null,
   "id": "f7fa82b1-1407-4f42-adc2-f7d16ac43bf5",
   "metadata": {},
   "outputs": [],
   "source": [
    "class Calculator:\n",
    "    def __init__(self, num1, num2):\n",
    "        self.num1 = num1\n",
    "        self.num2 = num2\n",
    "    \n",
    "    def add(self):\n",
    "        return self.num1 + self.num2\n",
    "    \n",
    "    def subtract(self):\n",
    "        return self.num1 - self.num2\n",
    "    \n",
    "    def multiply(self):\n",
    "        return self.num1 * self.num2\n",
    "    \n",
    "    def divide(self):\n",
    "        if self.num2 != 0:\n",
    "            return self.num1 / self.num2\n",
    "        else:\n",
    "            return \"Error! Division by zero.\"\n",
    "\n",
    "def class_based_calculator():\n",
    "    print(\"\\nClass-Based Calculator\")\n",
    "    print(\"1. Addition\")\n",
    "    print(\"2. Subtraction\")\n",
    "    print(\"3. Multiplication\")\n",
    "    print(\"4. Division\")\n",
    "    \n",
    "    choice = input(\"Enter choice (1/2/3/4): \")\n",
    "    \n",
    "    if choice in ('1', '2', '3', '4'):\n",
    "        num1 = float(input(\"Enter first number: \"))\n",
    "        num2 = float(input(\"Enter second number: \"))\n",
    "        \n",
    "        calc = Calculator(num1, num2)\n",
    "        \n",
    "        if choice == '1':\n",
    "            print(f\"Result: {num1} + {num2} = {calc.add()}\")\n",
    "        elif choice == '2':\n",
    "            print(f\"Result: {num1} - {num2} = {calc.subtract()}\")\n",
    "        elif choice == '3':\n",
    "            print(f\"Result: {num1} * {num2} = {calc.multiply()}\")\n",
    "        elif choice == '4':\n",
    "            print(f\"Result: {num1} / {num2} = {calc.divide()}\")\n",
    "    else:\n",
    "        print(\"Invalid Input\")\n",
    "\n",
    "class_based_calculator()"
   ]
  },
  {
   "cell_type": "code",
   "execution_count": 7,
   "id": "fedf21b1-acdd-477c-b7f8-778749d552b1",
   "metadata": {},
   "outputs": [
    {
     "name": "stdin",
     "output_type": "stream",
     "text": [
      "Enter your name:  damini\n",
      "Enter your age:  22\n"
     ]
    },
    {
     "name": "stdout",
     "output_type": "stream",
     "text": [
      "Hello, damini\n",
      "You are 22 years old.\n"
     ]
    }
   ],
   "source": [
    "name = input(\"Enter your name: \")\n",
    "age = input(\"Enter your age: \")\n",
    "\n",
    "print(\"Hello,\",name)\n",
    "print(\"You are\",age,\"years old.\")"
   ]
  },
  {
   "cell_type": "code",
   "execution_count": null,
   "id": "93b18963-cabf-4b9f-b5cd-ad376e00b976",
   "metadata": {},
   "outputs": [],
   "source": []
  }
 ],
 "metadata": {
  "kernelspec": {
   "display_name": "Python 3 (ipykernel)",
   "language": "python",
   "name": "python3"
  },
  "language_info": {
   "codemirror_mode": {
    "name": "ipython",
    "version": 3
   },
   "file_extension": ".py",
   "mimetype": "text/x-python",
   "name": "python",
   "nbconvert_exporter": "python",
   "pygments_lexer": "ipython3",
   "version": "3.12.7"
  }
 },
 "nbformat": 4,
 "nbformat_minor": 5
}
