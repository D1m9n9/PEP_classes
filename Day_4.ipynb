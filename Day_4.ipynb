{
 "cells": [
  {
   "cell_type": "code",
   "execution_count": 6,
   "id": "c286c486-2fad-4d19-9aff-d2641f534cd1",
   "metadata": {},
   "outputs": [
    {
     "name": "stdin",
     "output_type": "stream",
     "text": [
      "Enter first number: 10\n",
      "Enter second number: 15\n"
     ]
    },
    {
     "name": "stdout",
     "output_type": "stream",
     "text": [
      "The LCM of10 and 15 is 30\n"
     ]
    }
   ],
   "source": [
    "#LCM Program\n",
    "\n",
    "def compute_lcm(x,y):\n",
    "    greater = max(x,y)\n",
    "    while True:\n",
    "        if greater %x ==0 and greater %y == 0:\n",
    "            lcm = greater\n",
    "            break\n",
    "        greater += 1\n",
    "    return lcm\n",
    "\n",
    "num1 = int(input(\"Enter first number:\"))\n",
    "num2 = int(input(\"Enter second number:\"))\n",
    "\n",
    "print(f\"The LCM of{num1} and {num2} is {compute_lcm(num1,num2)}\")"
   ]
  },
  {
   "cell_type": "code",
   "execution_count": 3,
   "id": "31fe9393-5cd2-413f-9046-20f6f345b4d3",
   "metadata": {},
   "outputs": [
    {
     "name": "stdin",
     "output_type": "stream",
     "text": [
      "Enter first number: 45\n",
      "Enter second number: 43\n"
     ]
    },
    {
     "name": "stdout",
     "output_type": "stream",
     "text": [
      "The HCF of 45 and 43 is 1\n"
     ]
    }
   ],
   "source": [
    "#HCF Program\n",
    "def compute_hcf(x,y):\n",
    "    while y:\n",
    "        x,y = y,x%y\n",
    "    return x\n",
    "\n",
    "num1 = int(input(\"Enter first number:\"))\n",
    "num2 = int(input(\"Enter second number:\"))\n",
    "\n",
    "print(f\"The HCF of {num1} and {num2} is {compute_hcf(num1, num2)}\")"
   ]
  },
  {
   "cell_type": "code",
   "execution_count": 5,
   "id": "214afb3c-7913-4927-8ac1-88f73df084e2",
   "metadata": {},
   "outputs": [
    {
     "name": "stdin",
     "output_type": "stream",
     "text": [
      "How many: 3\n"
     ]
    },
    {
     "name": "stdout",
     "output_type": "stream",
     "text": [
      "36\n"
     ]
    }
   ],
   "source": [
    "# sum of cubes of n natural numbers\n",
    "\n",
    "count = int(input(\"How many:\"))\n",
    "sum = 0\n",
    "for i in range(1, count +1):\n",
    "    sum += i ** 3\n",
    "print(sum)\n"
   ]
  },
  {
   "cell_type": "code",
   "execution_count": null,
   "id": "af195cd0-2801-4a0e-b01c-fe2542b7e841",
   "metadata": {},
   "outputs": [],
   "source": [
    "#HAcker Rank"
   ]
  }
 ],
 "metadata": {
  "kernelspec": {
   "display_name": "Python 3 (ipykernel)",
   "language": "python",
   "name": "python3"
  },
  "language_info": {
   "codemirror_mode": {
    "name": "ipython",
    "version": 3
   },
   "file_extension": ".py",
   "mimetype": "text/x-python",
   "name": "python",
   "nbconvert_exporter": "python",
   "pygments_lexer": "ipython3",
   "version": "3.12.7"
  }
 },
 "nbformat": 4,
 "nbformat_minor": 5
}
