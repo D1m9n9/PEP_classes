{
 "cells": [
  {
   "cell_type": "markdown",
   "id": "296f0318-8459-4736-911c-01261749a355",
   "metadata": {},
   "source": [
    "# Functions\n",
    "A function is a block of code which only runs when it is called.You can pass data, known as parameters, into a function.A function can return data as a result. \n",
    "Arguments\n",
    "Information can be passed into functions as arguments.Arguments are specified after the function name, inside the parentheses. You can add as many arguments as you want, just separate them with a comma.\n",
    "The terms parameter and argument can be used for the same thing: information that are passed into a function."
   ]
  },
  {
   "cell_type": "code",
   "execution_count": 1,
   "id": "9b73fea4-747c-4096-82fa-6cec51974c13",
   "metadata": {},
   "outputs": [],
   "source": [
    "def function(x,y):\n",
    "    sum = x+y\n",
    "    return sum"
   ]
  },
  {
   "cell_type": "code",
   "execution_count": 2,
   "id": "a826a57e-35cf-4832-80ac-5c02d00f6a07",
   "metadata": {},
   "outputs": [
    {
     "data": {
      "text/plain": [
       "156"
      ]
     },
     "execution_count": 2,
     "metadata": {},
     "output_type": "execute_result"
    }
   ],
   "source": [
    "function(x=67, y= 89)"
   ]
  },
  {
   "cell_type": "code",
   "execution_count": 4,
   "id": "888a94b8-ba0f-4a7f-8daf-95a6a36b9b86",
   "metadata": {},
   "outputs": [],
   "source": [
    "#default values\n",
    "def function(y, x=4):  \n",
    "    sum = x + y\n",
    "    return sum"
   ]
  },
  {
   "cell_type": "code",
   "execution_count": 7,
   "id": "d23d573b-9081-48f3-9089-6cd987fd6b9e",
   "metadata": {},
   "outputs": [
    {
     "data": {
      "text/plain": [
       "11"
      ]
     },
     "execution_count": 7,
     "metadata": {},
     "output_type": "execute_result"
    }
   ],
   "source": [
    "function(5,6) # works either way with or without a value as defult value is defined"
   ]
  },
  {
   "cell_type": "code",
   "execution_count": 5,
   "id": "d458d49f-91a9-493a-bbaa-92e2b352a736",
   "metadata": {},
   "outputs": [
    {
     "name": "stdout",
     "output_type": "stream",
     "text": [
      "Welcome to, Techutus\n",
      "Welcome to, Techutus\n",
      "Welcome to, Techutus\n"
     ]
    }
   ],
   "source": [
    "def disp():\n",
    "    name = \"Techutus\"\n",
    "    print(\"Welcome to,\",name)\n",
    "\n",
    "disp()\n",
    "disp()\n",
    "disp()"
   ]
  },
  {
   "cell_type": "code",
   "execution_count": 8,
   "id": "18c3d129-8529-410b-837a-277fddf4bf9d",
   "metadata": {},
   "outputs": [
    {
     "name": "stdout",
     "output_type": "stream",
     "text": [
      "Disp Function\n",
      "Show Function\n"
     ]
    }
   ],
   "source": [
    "def disp():\n",
    "    def show():\n",
    "        print(\"Show Function\")\n",
    "    print(\"Disp Function\")\n",
    "    show()\n",
    "disp()"
   ]
  },
  {
   "cell_type": "code",
   "execution_count": 10,
   "id": "e67ddd83-cf21-4cc3-9912-bbe2b652284b",
   "metadata": {},
   "outputs": [
    {
     "name": "stdout",
     "output_type": "stream",
     "text": [
      "<class 'function'>\n",
      "Disp FunctionShow Function\n"
     ]
    }
   ],
   "source": [
    "def disp(sh):\n",
    "    print(type(sh))\n",
    "    print(\"Disp Function\"+sh())\n",
    "\n",
    "def show():\n",
    "    return\"Show Function\"\n",
    "\n",
    "disp(show)"
   ]
  },
  {
   "cell_type": "code",
   "execution_count": 11,
   "id": "51ad943e-35fd-4e59-a325-f94a4aaeaa81",
   "metadata": {},
   "outputs": [
    {
     "name": "stdout",
     "output_type": "stream",
     "text": [
      "Disp Function\n",
      "<function disp.<locals>.show at 0x000002485064C180>\n"
     ]
    }
   ],
   "source": [
    "def disp():\n",
    "    def show():\n",
    "        print(\"Show Function.\")\n",
    "    print(\"Disp Function\")\n",
    "    return show\n",
    "r_sh = disp()\n",
    "print(r_sh)"
   ]
  },
  {
   "cell_type": "code",
   "execution_count": 13,
   "id": "fe7d0882-15d4-4d81-b478-1c95046f991c",
   "metadata": {},
   "outputs": [
    {
     "name": "stdout",
     "output_type": "stream",
     "text": [
      "<class 'function'>\n",
      "Display Function Show Function\n"
     ]
    }
   ],
   "source": [
    "def disp(sh):  \n",
    "    print(type(sh))\n",
    "    print(\"Display Function \" + sh())  \n",
    "\n",
    "def show():\n",
    "    return \"Show Function\"\n",
    "\n",
    "disp(show)  "
   ]
  },
  {
   "cell_type": "code",
   "execution_count": 17,
   "id": "b119177c-1106-40ec-a41e-d8e94dfaf699",
   "metadata": {},
   "outputs": [
    {
     "data": {
      "text/plain": [
       "9"
      ]
     },
     "execution_count": 17,
     "metadata": {},
     "output_type": "execute_result"
    }
   ],
   "source": [
    "# * is used as a tuple function\n",
    "def func(*num):\n",
    "    sum = num[0] + num[1] + num[2]\n",
    "    return sum\n",
    "\n",
    "func(2,3,4)"
   ]
  },
  {
   "cell_type": "code",
   "execution_count": 18,
   "id": "3b642ab3-fc79-4522-a027-419b45578fc2",
   "metadata": {},
   "outputs": [
    {
     "data": {
      "text/plain": [
       "15"
      ]
     },
     "execution_count": 18,
     "metadata": {},
     "output_type": "execute_result"
    }
   ],
   "source": [
    "def func(**num):\n",
    "    sum = num['a'] + num['b'] + num['c']\n",
    "    return sum\n",
    "\n",
    "func(a=4,b=9,c=2)"
   ]
  },
  {
   "cell_type": "code",
   "execution_count": 21,
   "id": "a092c482-c06a-41f5-ac5a-0cc8ec5b8305",
   "metadata": {},
   "outputs": [
    {
     "data": {
      "text/plain": [
       "34"
      ]
     },
     "execution_count": 21,
     "metadata": {},
     "output_type": "execute_result"
    }
   ],
   "source": [
    "def func2(*num1, **num2):\n",
    "    sum = num1[0]+num1[1]+num2['a']+num2['b']+num2['c']\n",
    "    return sum\n",
    "\n",
    "func2(4,7,a=6,b=8,c=9)"
   ]
  },
  {
   "cell_type": "code",
   "execution_count": 24,
   "id": "812010ea-1dc7-493d-b17b-7731e19833c1",
   "metadata": {},
   "outputs": [
    {
     "data": {
      "text/plain": [
       "131"
      ]
     },
     "execution_count": 24,
     "metadata": {},
     "output_type": "execute_result"
    }
   ],
   "source": [
    "def plus(x,y):\n",
    "    sum = x+y\n",
    "    return sum\n",
    "\n",
    "def func3(a,b):\n",
    "    add =plus(a,b)\n",
    "    return add\n",
    "\n",
    "func3(a=65,b=66)"
   ]
  },
  {
   "cell_type": "code",
   "execution_count": 26,
   "id": "cd20a7e7-c4c6-4be2-9612-ab27433bc1a1",
   "metadata": {},
   "outputs": [
    {
     "data": {
      "text/plain": [
       "-131.0"
      ]
     },
     "execution_count": 26,
     "metadata": {},
     "output_type": "execute_result"
    }
   ],
   "source": [
    "def minus(c,d):\n",
    "    diff = c-d\n",
    "    return diff\n",
    "\n",
    "def func3(a,b):\n",
    "    frm1 =plus(a,b)/minus(a,b)\n",
    "    return frm1\n",
    "\n",
    "func3(a=65,b=66)"
   ]
  },
  {
   "cell_type": "markdown",
   "id": "383270ac-0203-43b9-8f96-66d51d7817c6",
   "metadata": {},
   "source": [
    "# Local & Global Variables"
   ]
  },
  {
   "cell_type": "code",
   "execution_count": 29,
   "id": "237f1c33-de75-4786-a832-44ad8bc19e3a",
   "metadata": {},
   "outputs": [
    {
     "name": "stdout",
     "output_type": "stream",
     "text": [
      "10\n",
      "50\n",
      "Global Variables A: 50\n"
     ]
    }
   ],
   "source": [
    "a = 50\n",
    "def show():\n",
    "    x = 10\n",
    "    print(x)\n",
    "    print(a)\n",
    "show()\n",
    "\n",
    "print(\"Global Variables A:\",a)\n"
   ]
  },
  {
   "cell_type": "markdown",
   "id": "063966ed-7055-4977-b392-e2ac6b4c1b72",
   "metadata": {},
   "source": [
    "# Recursion"
   ]
  },
  {
   "cell_type": "code",
   "execution_count": 33,
   "id": "db52d03e-d545-4509-9978-c64a87a7a39f",
   "metadata": {},
   "outputs": [
    {
     "name": "stdout",
     "output_type": "stream",
     "text": [
      "My Function 1\n"
     ]
    }
   ],
   "source": [
    "i = 0\n",
    "def myFun():\n",
    "    global i\n",
    "    i += 1\n",
    "    print(\"My Function\", i)\n",
    "\n",
    "myFun()"
   ]
  },
  {
   "cell_type": "code",
   "execution_count": 32,
   "id": "f3efe88a-59a4-4fbc-99dc-4e4efef7e56f",
   "metadata": {},
   "outputs": [
    {
     "name": "stdout",
     "output_type": "stream",
     "text": [
      "3628800\n"
     ]
    }
   ],
   "source": [
    "def fact(n):\n",
    "    if n == 0:\n",
    "        return 1\n",
    "    return n*fact(n-1)\n",
    "\n",
    "print(fact(10))"
   ]
  },
  {
   "cell_type": "code",
   "execution_count": null,
   "id": "b3fc840a-3bab-4c68-b882-e9bf657ed4ab",
   "metadata": {},
   "outputs": [],
   "source": [
    "#anonymous function or lambda function\n",
    "show "
   ]
  },
  {
   "cell_type": "code",
   "execution_count": 34,
   "id": "452c8f5c-4b65-48ae-baa9-0c4ea0ea3705",
   "metadata": {},
   "outputs": [
    {
     "name": "stdout",
     "output_type": "stream",
     "text": [
      "<function <lambda>.<locals>.<lambda> at 0x000002485147F6A0>\n",
      "18\n",
      "25\n"
     ]
    }
   ],
   "source": [
    "#nested lambda\n",
    "add = lambda x=10 : (lambda y : x+y)\n",
    "a = add()\n",
    "print(a)\n",
    "print(a(8))\n",
    "show = add(20)\n",
    "print(show(5))"
   ]
  },
  {
   "cell_type": "code",
   "execution_count": 37,
   "id": "ca7c27a8-3d06-4bb1-8ba3-3cba8c476c52",
   "metadata": {},
   "outputs": [
    {
     "name": "stdout",
     "output_type": "stream",
     "text": [
      "5\n",
      "7\n"
     ]
    }
   ],
   "source": [
    "show = lambda x : print(x)\n",
    "show(5)\n",
    "\n",
    "add = lambda x,y : (x+y)\n",
    "print(add(5,2))\n",
    "add = lambda x, y: x + y\n"
   ]
  },
  {
   "cell_type": "code",
   "execution_count": 38,
   "id": "e3812642-52d0-41cd-90fc-39643439bb24",
   "metadata": {},
   "outputs": [
    {
     "name": "stdin",
     "output_type": "stream",
     "text": [
      "Enter a number:  67\n"
     ]
    },
    {
     "name": "stdout",
     "output_type": "stream",
     "text": [
      "67 is a prime number\n"
     ]
    }
   ],
   "source": [
    "# Program to check if a number is prime using a flag\n",
    "num = int(input(\"Enter a number: \"))\n",
    "\n",
    "is_prime = True\n",
    "\n",
    "if num > 1:\n",
    "    for i in range(2, num):\n",
    "        if (num % i) == 0:\n",
    "            is_prime = False\n",
    "            break\n",
    "\n",
    "if is_prime and num > 1:\n",
    "    print(num, \"is a prime number\")\n",
    "else:\n",
    "    print(num, \"is not a prime number\")"
   ]
  },
  {
   "cell_type": "code",
   "execution_count": null,
   "id": "8c129f48-65be-46e9-8cf0-524716e38e4d",
   "metadata": {},
   "outputs": [],
   "source": [
    "def fibo(n):\n",
    "    if n<=1:\n",
    "        return n\n",
    "    else:\n",
    "        return(fibo(n-1)+fibo(n-2))\n",
    "nterms= int(input(\"numbers\"))"
   ]
  },
  {
   "cell_type": "code",
   "execution_count": 40,
   "id": "233cc414-c5c7-4d05-a56a-9d5e49ebee43",
   "metadata": {},
   "outputs": [
    {
     "data": {
      "text/plain": [
       "'370 is an Armstrong number.'"
      ]
     },
     "execution_count": 40,
     "metadata": {},
     "output_type": "execute_result"
    }
   ],
   "source": [
    "def armstrongnum(a):\n",
    "    stra = str(a)\n",
    "    power = len(stra)\n",
    "    sum = 0\n",
    "    for i in range(len(stra)-1):\n",
    "        sum+=int(stra[i])**power\n",
    "    if sum == a:\n",
    "        return f'{a} is an Armstrong number.'\n",
    "    else:\n",
    "        return f'{a} is not an Armstrong number.'\n",
    "\n",
    "armstrongnum(370)\n",
    "    "
   ]
  },
  {
   "cell_type": "code",
   "execution_count": null,
   "id": "69c98c34-25c3-4294-a14e-aa51805d3324",
   "metadata": {},
   "outputs": [],
   "source": []
  }
 ],
 "metadata": {
  "kernelspec": {
   "display_name": "Python 3 (ipykernel)",
   "language": "python",
   "name": "python3"
  },
  "language_info": {
   "codemirror_mode": {
    "name": "ipython",
    "version": 3
   },
   "file_extension": ".py",
   "mimetype": "text/x-python",
   "name": "python",
   "nbconvert_exporter": "python",
   "pygments_lexer": "ipython3",
   "version": "3.12.7"
  }
 },
 "nbformat": 4,
 "nbformat_minor": 5
}
