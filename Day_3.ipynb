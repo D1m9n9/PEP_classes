{
 "cells": [
  {
   "cell_type": "code",
   "execution_count": 1,
   "id": "fdb6b1e6-c0ec-483a-9aa2-6c9312996d7c",
   "metadata": {},
   "outputs": [
    {
     "name": "stdout",
     "output_type": "stream",
     "text": [
      "Prime numbers between 0 & 100: [2, 3, 5, 7, 11, 13, 17, 19, 23, 29, 31, 37, 41, 43, 47, 53, 59, 61, 67, 71, 73, 79, 83, 89, 97]\n"
     ]
    }
   ],
   "source": [
    "#prime number range \n",
    "primes = []\n",
    "for num in range(2,101):\n",
    "    is_prime = True\n",
    "    for i in range(2,int(num**0.5)+1):\n",
    "        if num % i == 0:\n",
    "            is_prime = False\n",
    "            break\n",
    "    if is_prime:\n",
    "        primes.append(num)\n",
    "print(\"Prime numbers between 0 & 100:\", primes)"
   ]
  },
  {
   "cell_type": "markdown",
   "id": "12202537-cfe1-4327-b224-6a76c87222e3",
   "metadata": {},
   "source": [
    "# An Armstrong number (also known as a narcissistic number, pluperfect digital invariant (PPDI) number, or plus perfect number) is a number that is equal to the sum of its own digits each raised to the power of the number of digits.\n",
    "153 (3 digits):\n",
    "\n",
    "1\n",
    "3\n",
    "+\n",
    "5\n",
    "3\n",
    "+\n",
    "3\n",
    "3\n",
    "=\n",
    "1\n",
    "+\n",
    "125\n",
    "+\n",
    "27\n",
    "=\n",
    "153\n",
    "1 \n",
    "3\n",
    " +5 \n",
    "3\n",
    " +3 \n",
    "3\n",
    " =1+125+27=\n",
    " "
   ]
  },
  {
   "cell_type": "markdown",
   "id": "609e734c-a9d6-44bd-9573-bbbcce606fbf",
   "metadata": {},
   "source": [
    "# to check armstrong no."
   ]
  },
  {
   "cell_type": "code",
   "execution_count": 2,
   "id": "46a6483e-2650-4894-8da0-ac6eb690beb4",
   "metadata": {},
   "outputs": [
    {
     "name": "stdout",
     "output_type": "stream",
     "text": [
      "0\n",
      "370\n",
      "6688\n"
     ]
    }
   ],
   "source": [
    "for num in (range(10000)):\n",
    "    strnum = str(num)\n",
    "    pow = len(strnum)\n",
    "    sum = 0\n",
    "    for i in (range(len(strnum)-1)):\n",
    "        sum+= int(strnum[i])**pow\n",
    "    if(sum==num):\n",
    "        print(num)"
   ]
  },
  {
   "cell_type": "code",
   "execution_count": 3,
   "id": "7dfbf1df-bd2a-45ad-97b1-3d3d467b5836",
   "metadata": {},
   "outputs": [
    {
     "name": "stdout",
     "output_type": "stream",
     "text": [
      "370\n",
      "6688\n"
     ]
    }
   ],
   "source": [
    "for num in (range(1,10000)):\n",
    "    strnum = str(num)\n",
    "    pow = len(strnum)\n",
    "    sum = 0\n",
    "    for i in (range(len(strnum)-1)):\n",
    "        sum+= int(strnum[i])**pow\n",
    "    if(sum==num):\n",
    "        print(num)"
   ]
  },
  {
   "cell_type": "markdown",
   "id": "0914a5f9-080a-4529-b479-7f71c1699d64",
   "metadata": {},
   "source": [
    "#  List   \n",
    "In Python, a list (list) is a built-in data structure used to store an ordered, mutable (changeable) collection of elements. Lists can contain items of different data types (integers, strings, other lists, etc.) and are defined using square brackets []"
   ]
  },
  {
   "cell_type": "code",
   "execution_count": 4,
   "id": "5d49804f-b511-47bf-856b-4c9d0ab53842",
   "metadata": {},
   "outputs": [],
   "source": [
    "list = []  #empty list"
   ]
  },
  {
   "cell_type": "code",
   "execution_count": 5,
   "id": "3415f4fa-4537-4208-b075-2f79b6b64c67",
   "metadata": {},
   "outputs": [],
   "source": [
    "list = [1,2,3.0,\"Python\",True,[4,5,6,]] # can contain different data types"
   ]
  },
  {
   "cell_type": "code",
   "execution_count": 6,
   "id": "3fd27ec4-1431-4df8-9bdc-257670468382",
   "metadata": {},
   "outputs": [
    {
     "data": {
      "text/plain": [
       "list"
      ]
     },
     "execution_count": 6,
     "metadata": {},
     "output_type": "execute_result"
    }
   ],
   "source": [
    "type(list)"
   ]
  },
  {
   "cell_type": "code",
   "execution_count": 7,
   "id": "d9eac1d7-82c5-4256-b745-4affe4293d36",
   "metadata": {},
   "outputs": [
    {
     "data": {
      "text/plain": [
       "1"
      ]
     },
     "execution_count": 7,
     "metadata": {},
     "output_type": "execute_result"
    }
   ],
   "source": [
    "#slicing & indexing\n",
    "list[0]"
   ]
  },
  {
   "cell_type": "code",
   "execution_count": 8,
   "id": "633ee951-3e67-4f46-866a-a492b7c0da73",
   "metadata": {},
   "outputs": [
    {
     "data": {
      "text/plain": [
       "([4, 5, 6], 'Python')"
      ]
     },
     "execution_count": 8,
     "metadata": {},
     "output_type": "execute_result"
    }
   ],
   "source": [
    "list[5], list[3]"
   ]
  },
  {
   "cell_type": "code",
   "execution_count": 9,
   "id": "922ae7a8-ccfa-4ccb-b08b-f3f882ee6434",
   "metadata": {},
   "outputs": [
    {
     "data": {
      "text/plain": [
       "[1, 2, 60, 'Python', True, [4, 5, 6]]"
      ]
     },
     "execution_count": 9,
     "metadata": {},
     "output_type": "execute_result"
    }
   ],
   "source": [
    "list[2]=60\n",
    "list"
   ]
  },
  {
   "cell_type": "code",
   "execution_count": 10,
   "id": "c8bc954b-3a7e-4a50-8301-5b629565e0f8",
   "metadata": {},
   "outputs": [],
   "source": [
    "#functions\n",
    "list.append(85)"
   ]
  },
  {
   "cell_type": "code",
   "execution_count": 11,
   "id": "82673e93-7fef-4322-ac06-5bcce068da1a",
   "metadata": {},
   "outputs": [
    {
     "data": {
      "text/plain": [
       "[1, 2, 60, 'Python', True, [4, 5, 6], 85]"
      ]
     },
     "execution_count": 11,
     "metadata": {},
     "output_type": "execute_result"
    }
   ],
   "source": [
    "list"
   ]
  },
  {
   "cell_type": "code",
   "execution_count": 12,
   "id": "66a0d57a-2078-4d20-a8f2-69b943f76fd9",
   "metadata": {},
   "outputs": [
    {
     "data": {
      "text/plain": [
       "[1, 2, 60, 'Python', True, [4, 5, 6]]"
      ]
     },
     "execution_count": 12,
     "metadata": {},
     "output_type": "execute_result"
    }
   ],
   "source": [
    "list.remove(85)\n",
    "list"
   ]
  },
  {
   "cell_type": "code",
   "execution_count": 13,
   "id": "7636272b-491c-455e-95f1-b4a7c1399c52",
   "metadata": {},
   "outputs": [
    {
     "data": {
      "text/plain": [
       "[1, 2, 60, 68, 'Python', True, [4, 5, 6]]"
      ]
     },
     "execution_count": 13,
     "metadata": {},
     "output_type": "execute_result"
    }
   ],
   "source": [
    "list.insert(3,68)\n",
    "list"
   ]
  },
  {
   "cell_type": "code",
   "execution_count": 14,
   "id": "55b7ad36-542b-4ce7-add3-154a342cd71c",
   "metadata": {},
   "outputs": [],
   "source": [
    "list = list"
   ]
  },
  {
   "cell_type": "code",
   "execution_count": 15,
   "id": "359446b6-924f-4e9e-b31f-162f769b3564",
   "metadata": {},
   "outputs": [
    {
     "data": {
      "text/plain": [
       "[1, 2, 60, 68, 'Python', True, [4, 5, 6]]"
      ]
     },
     "execution_count": 15,
     "metadata": {},
     "output_type": "execute_result"
    }
   ],
   "source": [
    "list"
   ]
  },
  {
   "cell_type": "code",
   "execution_count": 16,
   "id": "7864570b-073f-4a72-b382-59219ff24907",
   "metadata": {},
   "outputs": [],
   "source": [
    "list1 =[]"
   ]
  },
  {
   "cell_type": "code",
   "execution_count": 17,
   "id": "83abab2f-424d-469c-bee9-5c870b75ccab",
   "metadata": {},
   "outputs": [
    {
     "data": {
      "text/plain": [
       "[]"
      ]
     },
     "execution_count": 17,
     "metadata": {},
     "output_type": "execute_result"
    }
   ],
   "source": [
    "list1"
   ]
  },
  {
   "cell_type": "code",
   "execution_count": 18,
   "id": "fcdaefe3-bfad-4c10-86c0-3693f6853a86",
   "metadata": {},
   "outputs": [],
   "source": [
    "list1 = list"
   ]
  },
  {
   "cell_type": "code",
   "execution_count": 19,
   "id": "68794a13-da71-4d7f-b91b-771cdf87a287",
   "metadata": {},
   "outputs": [
    {
     "data": {
      "text/plain": [
       "[1, 2, 60, 68, 'Python', True, [4, 5, 6]]"
      ]
     },
     "execution_count": 19,
     "metadata": {},
     "output_type": "execute_result"
    }
   ],
   "source": [
    "list1"
   ]
  },
  {
   "cell_type": "code",
   "execution_count": 20,
   "id": "bd79f5a8-ae68-4257-b7b0-4cd1c8396912",
   "metadata": {},
   "outputs": [
    {
     "name": "stdout",
     "output_type": "stream",
     "text": [
      "[169, 441, 1156, 1024, 1156, 2916, 4225, 2025, 5776, 3136, 4225]\n"
     ]
    }
   ],
   "source": [
    "num_list = [13,21,34,32,34,54,65,45,76,56,65]\n",
    "new_list = []\n",
    "\n",
    "for i in num_list:\n",
    "    new_list.append(i**2)\n",
    "print(new_list)"
   ]
  },
  {
   "cell_type": "code",
   "execution_count": 21,
   "id": "38a76cb4-3ea5-43d0-a346-342335dcc30c",
   "metadata": {},
   "outputs": [
    {
     "name": "stdout",
     "output_type": "stream",
     "text": [
      "[1156, 1024, 1156, 2916, 5776, 3136]\n"
     ]
    }
   ],
   "source": [
    "num_list = [13,21,34,32,34,54,65,45,76,56,65]\n",
    "new_list = []\n",
    "\n",
    "for i in num_list:\n",
    "    if i%2 == 0:\n",
    "        new_list.append(i**2)\n",
    "print(new_list)"
   ]
  },
  {
   "cell_type": "code",
   "execution_count": 22,
   "id": "fbe39aec-001e-43f1-80a3-c9a097e3ef79",
   "metadata": {},
   "outputs": [
    {
     "data": {
      "text/plain": [
       "[1156, 1024, 1156, 2916, 5776, 3136]"
      ]
     },
     "execution_count": 22,
     "metadata": {},
     "output_type": "execute_result"
    }
   ],
   "source": [
    "#list comprehension\n",
    "new_list=[i**2 for i in num_list if i%2 == 0]\n",
    "new_list"
   ]
  },
  {
   "cell_type": "code",
   "execution_count": 23,
   "id": "0610dc69-82c9-417b-9bc9-15dfac0bc311",
   "metadata": {},
   "outputs": [],
   "source": [
    "list = [1,2,3.0,\"Python\",True,[4,5,6,]]"
   ]
  },
  {
   "cell_type": "code",
   "execution_count": 24,
   "id": "e111f5b8-a045-42bb-94df-378ba8b23487",
   "metadata": {},
   "outputs": [
    {
     "name": "stdout",
     "output_type": "stream",
     "text": [
      "[13, 21, 32, 34, 34, 45, 54, 56, 65, 65, 76]\n"
     ]
    }
   ],
   "source": [
    "num_list = [13,21,34,32,34,54,65,45,76,56,65]\n",
    "\n",
    "# sorting list without using sort function\n",
    "for i in range(len(num_list)-1):\n",
    "    for j in range(i+1,len(num_list)):\n",
    "        if num_list[i]>num_list[j]:\n",
    "            num_list[i],num_list[j]= num_list[j], num_list[i]\n",
    "print(num_list)"
   ]
  },
  {
   "cell_type": "code",
   "execution_count": 25,
   "id": "e6d34b9a-0533-4d10-9bdd-1b4ce681c147",
   "metadata": {},
   "outputs": [
    {
     "data": {
      "text/plain": [
       "[[[1, 2, 3, 4, 5], [6, 7, 8, 9, 10]],\n",
       " [[3, 4, 5, 7, 5], [7, 5, 4, 3, 6]],\n",
       " [[4, 6, 8, 4, 5], [6, 78, 64, 6, 7]]]"
      ]
     },
     "execution_count": 25,
     "metadata": {},
     "output_type": "execute_result"
    }
   ],
   "source": [
    "matrix = [[[1,2,3,4,5],[6,7,8,9,10]],\n",
    "         [[3,4,5,7,5],[7,5,4,3,6]],\n",
    "         [[4,6,8,4,5],[6,78,64,6,7]]]\n",
    "matrix"
   ]
  },
  {
   "cell_type": "code",
   "execution_count": 26,
   "id": "83241b66-4baf-4368-a84d-6f04d161da88",
   "metadata": {},
   "outputs": [
    {
     "data": {
      "text/plain": [
       "[6, 7, 8, 9, 10]"
      ]
     },
     "execution_count": 26,
     "metadata": {},
     "output_type": "execute_result"
    }
   ],
   "source": [
    "matrix[0][1]"
   ]
  },
  {
   "cell_type": "code",
   "execution_count": 27,
   "id": "8102a94d-7266-4ade-b299-9cf9f874d5e7",
   "metadata": {},
   "outputs": [
    {
     "data": {
      "text/plain": [
       "8"
      ]
     },
     "execution_count": 27,
     "metadata": {},
     "output_type": "execute_result"
    }
   ],
   "source": [
    "matrix[0][1][2]"
   ]
  },
  {
   "cell_type": "code",
   "execution_count": 28,
   "id": "f1121d66-0dc4-4ac3-a7ad-cce8419ae038",
   "metadata": {},
   "outputs": [
    {
     "name": "stdin",
     "output_type": "stream",
     "text": [
      "Enter a number:  68\n"
     ]
    },
    {
     "name": "stdout",
     "output_type": "stream",
     "text": [
      "68 is not a prime number\n"
     ]
    }
   ],
   "source": [
    "#write a python program to check a prime number \n",
    "num = int(input(\"Enter a number: \"))\n",
    "\n",
    "if num <= 1:\n",
    "    print(num, \"is not a prime number\")\n",
    "else:\n",
    "    is_prime = True\n",
    "    for i in range(2, int(num ** 0.5) + 1):\n",
    "        if num % i == 0:\n",
    "            is_prime = False\n",
    "            break\n",
    "    if is_prime:\n",
    "        print(num, \"is a prime number\")\n",
    "    else:\n",
    "        print(num, \"is not a prime number\")"
   ]
  },
  {
   "cell_type": "markdown",
   "id": "d7341345-dc1e-4456-af91-bd7b419fde5e",
   "metadata": {},
   "source": [
    "# Tuples\n",
    "A tuple is an ordered, immutable (unchangeable) collection of elements in Python. It is defined using parentheses () (or without brackets in some cases) and can store heterogeneous (mixed) data types."
   ]
  },
  {
   "cell_type": "code",
   "execution_count": 29,
   "id": "a88fbcdc-5ea0-44eb-accb-184253ed4f99",
   "metadata": {},
   "outputs": [
    {
     "data": {
      "text/plain": [
       "(3, 4, 5, 6, 7, 8, 'python')"
      ]
     },
     "execution_count": 29,
     "metadata": {},
     "output_type": "execute_result"
    }
   ],
   "source": [
    "tuple = (3,4,5,6,7,8,\"python\")\n",
    "tuple"
   ]
  },
  {
   "cell_type": "markdown",
   "id": "0f197208-c2c2-4abf-822d-1002c1f1bd96",
   "metadata": {},
   "source": [
    "# SET\n",
    "A set is an unordered, mutable (changeable), and unique collection of elements in Python. It is defined using curly braces {} or the set() constructor and is optimized for fast membership testing (e.g., checking if an element exists)."
   ]
  },
  {
   "cell_type": "code",
   "execution_count": 30,
   "id": "6261debf-90a8-4017-ba3c-e20b73646c2f",
   "metadata": {},
   "outputs": [
    {
     "name": "stdout",
     "output_type": "stream",
     "text": [
      "{65, 34, 21, 23, 43, 45}\n",
      "65\n",
      "34\n",
      "21\n",
      "23\n",
      "43\n",
      "45\n"
     ]
    }
   ],
   "source": [
    "set = {21,23,21,23,43,34,43,23,65,45}\n",
    "print(set)\n",
    "for i in set:\n",
    "    print(i)"
   ]
  },
  {
   "cell_type": "code",
   "execution_count": 31,
   "id": "d57d3385-7d60-4dd7-aa46-350b258a771c",
   "metadata": {},
   "outputs": [
    {
     "name": "stdout",
     "output_type": "stream",
     "text": [
      "{1, 2, 3, 4, 5, 6, 7, 8, 9, 12}\n",
      "{3, 4}\n",
      "{1, 5, 6, 8, 9}\n",
      "{1, 2, 5, 6, 7, 8, 9, 12}\n"
     ]
    }
   ],
   "source": [
    "s1 = {1,3,4,5,6,8,9}\n",
    "s2 = {2,3,4,7,12}\n",
    "\n",
    "#union od 2 sets\n",
    "print(s1.union(s2))\n",
    "#intersection\n",
    "print(s1.intersection(s2))\n",
    "#difference\n",
    "print(s1.difference(s2))# uncommon values in the higher set\n",
    "#symmetric difference\n",
    "print(s1^s2) # uncommon values in both the sets"
   ]
  },
  {
   "cell_type": "code",
   "execution_count": 32,
   "id": "85cf1594-0643-412c-a367-a70d90a816ff",
   "metadata": {},
   "outputs": [],
   "source": [
    "s1.add(13)"
   ]
  },
  {
   "cell_type": "code",
   "execution_count": 33,
   "id": "47d766ad-65ac-4462-9d81-1bbacaabe2f2",
   "metadata": {},
   "outputs": [
    {
     "data": {
      "text/plain": [
       "{1, 3, 4, 5, 6, 8, 9, 13}"
      ]
     },
     "execution_count": 33,
     "metadata": {},
     "output_type": "execute_result"
    }
   ],
   "source": [
    "s1"
   ]
  },
  {
   "cell_type": "code",
   "execution_count": 34,
   "id": "5be90d67-0540-4369-8e57-145821a850a1",
   "metadata": {},
   "outputs": [],
   "source": [
    "s1.remove(3)"
   ]
  },
  {
   "cell_type": "code",
   "execution_count": 35,
   "id": "4797700e-fc04-486d-a872-62420aa501db",
   "metadata": {},
   "outputs": [
    {
     "data": {
      "text/plain": [
       "{1, 4, 5, 6, 8, 9, 13}"
      ]
     },
     "execution_count": 35,
     "metadata": {},
     "output_type": "execute_result"
    }
   ],
   "source": [
    "s1"
   ]
  },
  {
   "cell_type": "code",
   "execution_count": null,
   "id": "5f4015ec-a6a8-45df-b835-49df09306784",
   "metadata": {},
   "outputs": [],
   "source": [
    "s1.discard()"
   ]
  },
  {
   "cell_type": "markdown",
   "id": "970cc7bd-0e42-4b38-bb16-b71e55bd2ae4",
   "metadata": {},
   "source": [
    "# Dictionary\n",
    "A dictionary (dict) is a built-in unordered, mutable (changeable), and indexed collection of key-value pairs. It is defined using curly braces {} with key: value pairs separated by commas.\n",
    "\n",
    "Key Features:\n",
    "Keys must be unique and immutable (e.g., strings, numbers, tuples).\n",
    "\n",
    "Values can be any data type (int, str, list, another dictionary, etc.).\n",
    "\n",
    "Optimized for fast lookups (O(1) time complexity)."
   ]
  },
  {
   "cell_type": "code",
   "execution_count": 36,
   "id": "6125a523-d12a-4a33-9e4e-c2f8b02cb082",
   "metadata": {},
   "outputs": [],
   "source": [
    "empty_dict = {}\n",
    "# or\n",
    "empty_dict = dict()"
   ]
  },
  {
   "cell_type": "code",
   "execution_count": 38,
   "id": "5de21621-3646-4f01-a421-66fa4479d6c2",
   "metadata": {},
   "outputs": [
    {
     "data": {
      "text/plain": [
       "{'name': 'Alice', 'age': 25, 'courses': ['Math', 'Physics']}"
      ]
     },
     "execution_count": 38,
     "metadata": {},
     "output_type": "execute_result"
    }
   ],
   "source": [
    "student = {\n",
    "    \"name\": \"Alice\",\n",
    "    \"age\": 25,\n",
    "    \"courses\": [\"Math\", \"Physics\"]\n",
    "}\n",
    "student"
   ]
  },
  {
   "cell_type": "code",
   "execution_count": 39,
   "id": "3049ac44-88b7-4dcd-8a5b-8a6e74319af4",
   "metadata": {},
   "outputs": [
    {
     "name": "stdout",
     "output_type": "stream",
     "text": [
      "Alice\n"
     ]
    }
   ],
   "source": [
    "print(student[\"name\"])  "
   ]
  },
  {
   "cell_type": "code",
   "execution_count": 40,
   "id": "5ead1f18-d83c-4b37-b39e-ca3c089d475d",
   "metadata": {},
   "outputs": [
    {
     "name": "stdout",
     "output_type": "stream",
     "text": [
      "25\n",
      "N/A\n"
     ]
    }
   ],
   "source": [
    "print(student.get(\"age\"))  # Output: 25\n",
    "print(student.get(\"grade\", \"N/A\"))  # Returns \"N/A\" if key doesn't exist"
   ]
  },
  {
   "cell_type": "code",
   "execution_count": 41,
   "id": "17332bad-f337-4401-affb-d29229af2dca",
   "metadata": {},
   "outputs": [
    {
     "name": "stdout",
     "output_type": "stream",
     "text": [
      "dict_keys(['name', 'age', 'courses'])\n",
      "dict_values(['Alice', 25, ['Math', 'Physics']])\n",
      "dict_items([('name', 'Alice'), ('age', 25), ('courses', ['Math', 'Physics'])])\n"
     ]
    }
   ],
   "source": [
    "print(student.keys())    \n",
    "print(student.values())  \n",
    "print(student.items())   "
   ]
  },
  {
   "cell_type": "code",
   "execution_count": 42,
   "id": "4be260c2-1ff1-4e92-9dc5-ddcf563395e0",
   "metadata": {},
   "outputs": [
    {
     "name": "stdout",
     "output_type": "stream",
     "text": [
      "['abc', 'bcd', 'cde', 'def', 'efg', 'fgh', 'ghi', 'hij', 'ijk', 'jkl', 'klm', 'lmn', 'mno', 'nop', 'opq', 'pqr', 'qrs', 'rst', 'stu', 'tuv', 'uvw', 'vwx', 'wxy', 'xyz']\n"
     ]
    }
   ],
   "source": [
    "# str = \"abcdefghijklmnopqrstuvwxyz\"\n",
    "# output should be in the form of:- list['abc','bcd','cde','def'........]\n",
    "str = \"abcdefghijklmnopqrstuvwxyz\"\n",
    "result = [str[i:i+3] for i in range(len(str)-2)]\n",
    "print(result)\n"
   ]
  },
  {
   "cell_type": "code",
   "execution_count": null,
   "id": "b2b9e113-9d90-497e-8da4-2b33ea7383c6",
   "metadata": {},
   "outputs": [],
   "source": [
    "#write a python program to find out LCM & GCD\n",
    "#find the cubes of first n natural numbers\n",
    "# print all happy numbers \n"
   ]
  }
 ],
 "metadata": {
  "kernelspec": {
   "display_name": "Python 3 (ipykernel)",
   "language": "python",
   "name": "python3"
  },
  "language_info": {
   "codemirror_mode": {
    "name": "ipython",
    "version": 3
   },
   "file_extension": ".py",
   "mimetype": "text/x-python",
   "name": "python",
   "nbconvert_exporter": "python",
   "pygments_lexer": "ipython3",
   "version": "3.12.7"
  }
 },
 "nbformat": 4,
 "nbformat_minor": 5
}
