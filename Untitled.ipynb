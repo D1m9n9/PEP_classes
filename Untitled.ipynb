{
 "cells": [
  {
   "cell_type": "code",
   "execution_count": null,
   "id": "324969ea-a1a6-4d8e-86ac-774e1d2700cd",
   "metadata": {},
   "outputs": [
    {
     "ename": "",
     "evalue": "",
     "output_type": "error",
     "traceback": [
      "\u001b[1;31mRunning cells with 'Python 3.13.2' requires the ipykernel package.\n",
      "\u001b[1;31mInstall 'ipykernel' into the Python environment. \n",
      "\u001b[1;31mCommand: '\"c:/Users/Damini Sohal/AppData/Local/Programs/Python/Python313/python.exe\" -m pip install ipykernel -U --user --force-reinstall'"
     ]
    }
   ],
   "source": [
    "employees = []\n",
    "\n",
    "def create_employee():\n",
    "    while True:\n",
    "        print(\"\\nEnter employee details:\")\n",
    "        name = input(\"Name: \")\n",
    "        age = input(\"Age: \")\n",
    "        \n",
    "        while True:\n",
    "            designation = input(\"Designation (programmer/manager/tester): \").lower()\n",
    "            if designation in ['programmer', 'manager', 'tester']:\n",
    "                break\n",
    "            print(\"Invalid designation! Please choose from programmer, manager, or tester\")\n",
    "        \n",
    "        if designation == 'programmer':\n",
    "            salary = 25000\n",
    "        elif designation == 'manager':\n",
    "            salary = 30000\n",
    "        else:\n",
    "            salary = 20000\n",
    "            \n",
    "        employees.append({\n",
    "            'name': name,\n",
    "            'age': age,\n",
    "            'designation': designation,\n",
    "            'salary': salary\n",
    "        })\n",
    "        \n",
    "        cont = input(\"Add another employee? (yes/no): \").lower()\n",
    "        if cont != 'yes':\n",
    "            break\n",
    "\n",
    "def display_employees():\n",
    "    if not employees:\n",
    "        print(\"\\nNo employees to display!\")\n",
    "        return\n",
    "        \n",
    "    print(\"\\nEmployee List:\")\n",
    "    for emp in employees:\n",
    "        print(f\"Name: {emp['name']}, Age: {emp['age']}, Designation: {emp['designation']}, Salary: {emp['salary']}\")\n",
    "\n",
    "def raise_salary():\n",
    "    if not employees:\n",
    "        print(\"\\nNo employees to raise salary!\")\n",
    "        return\n",
    "        \n",
    "    name = input(\"\\nEnter employee name to raise salary: \")\n",
    "    for emp in employees:\n",
    "        if emp['name'].lower() == name.lower():\n",
    "            percent = float(input(\"Enter raise percentage (e.g., 10 for 10%): \"))\n",
    "            emp['salary'] += emp['salary'] * (percent / 100)\n",
    "            print(f\"Salary raised! New salary: {emp['salary']}\")\n",
    "            return\n",
    "    print(\"Employee not found!\")\n",
    "\n",
    "while True:\n",
    "    print(\"\\nMenu:\")\n",
    "    print(\"1. Create Employee\")\n",
    "    print(\"2. Display Employees\")\n",
    "    print(\"3. Raise Salary\")\n",
    "    print(\"4. Exit\")\n",
    "    \n",
    "    choice = input(\"Enter your choice (1-4): \")\n",
    "    \n",
    "    if choice == '1':\n",
    "        create_employee()\n",
    "    elif choice == '2':\n",
    "        display_employees()\n",
    "    elif choice == '3':\n",
    "        raise_salary()\n",
    "    elif choice == '4':\n",
    "        print(\"\\nThank you for using the application!\")\n",
    "        break\n",
    "    else:\n",
    "        print(\"Invalid choice! Please enter 1-4\")"
   ]
  },
  {
   "cell_type": "code",
   "execution_count": null,
   "id": "9246bfb4-50c2-4c3a-aaa3-eea43c7a88b3",
   "metadata": {},
   "outputs": [
    {
     "ename": "",
     "evalue": "",
     "output_type": "error",
     "traceback": [
      "\u001b[1;31mRunning cells with 'Python 3.13.2' requires the ipykernel package.\n",
      "\u001b[1;31mInstall 'ipykernel' into the Python environment. \n",
      "\u001b[1;31mCommand: '\"c:/Users/Damini Sohal/AppData/Local/Programs/Python/Python313/python.exe\" -m pip install ipykernel -U --user --force-reinstall'"
     ]
    }
   ],
   "source": []
  },
  {
   "cell_type": "code",
   "execution_count": null,
   "id": "f35f4494-527e-46f5-963c-5753b18e9be3",
   "metadata": {},
   "outputs": [],
   "source": []
  },
  {
   "cell_type": "code",
   "execution_count": null,
   "id": "ca78f678-17e1-4b1f-9ba3-6340e7a6e932",
   "metadata": {},
   "outputs": [],
   "source": []
  }
 ],
 "metadata": {
  "kernelspec": {
   "display_name": "Python 3",
   "language": "python",
   "name": "python3"
  },
  "language_info": {
   "codemirror_mode": {
    "name": "ipython",
    "version": 3
   },
   "file_extension": ".py",
   "mimetype": "text/x-python",
   "name": "python",
   "nbconvert_exporter": "python",
   "pygments_lexer": "ipython3",
   "version": "3.13.2"
  }
 },
 "nbformat": 4,
 "nbformat_minor": 5
}
