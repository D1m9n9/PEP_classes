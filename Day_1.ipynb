{
 "cells": [
  {
   "cell_type": "code",
   "execution_count": 1,
   "id": "a1d8c338-d423-479c-8d9a-3734750407d3",
   "metadata": {},
   "outputs": [
    {
     "name": "stdout",
     "output_type": "stream",
     "text": [
      "Hello World\n"
     ]
    }
   ],
   "source": [
    "print(\"Hello World\")"
   ]
  },
  {
   "cell_type": "code",
   "execution_count": 4,
   "id": "f64e2e1c-6551-4267-b046-644a88915073",
   "metadata": {},
   "outputs": [
    {
     "name": "stdout",
     "output_type": "stream",
     "text": [
      "<class 'str'>\n"
     ]
    }
   ],
   "source": [
    "b = \"Vikas\"\n",
    "print(type(b))"
   ]
  },
  {
   "cell_type": "code",
   "execution_count": 5,
   "id": "66aa89e3-de2b-4dbc-a24f-8f5cf7956025",
   "metadata": {},
   "outputs": [
    {
     "name": "stdout",
     "output_type": "stream",
     "text": [
      "<class 'float'>\n"
     ]
    }
   ],
   "source": [
    "a = 2.0\n",
    "print(type(a))"
   ]
  },
  {
   "cell_type": "code",
   "execution_count": 6,
   "id": "e36d8bd5-128f-47ef-9d30-152950f6cb9a",
   "metadata": {},
   "outputs": [
    {
     "name": "stdout",
     "output_type": "stream",
     "text": [
      "3\n"
     ]
    }
   ],
   "source": [
    "a= 1\n",
    "b= 2\n",
    "print(a + b)"
   ]
  },
  {
   "cell_type": "code",
   "execution_count": 14,
   "id": "93bbe07e-6ebb-463f-97c0-f53d8d5ff1f9",
   "metadata": {},
   "outputs": [
    {
     "name": "stdout",
     "output_type": "stream",
     "text": [
      "PythonProgramming\n",
      "Python Programming\n",
      "Python Programming\n"
     ]
    }
   ],
   "source": [
    "x = \"Python\"\n",
    "y = \"Programming\"\n",
    "print(x + y)\n",
    "print(x,y)\n",
    "print(x+' '+y)\n"
   ]
  },
  {
   "cell_type": "markdown",
   "id": "b6f7d3d0-275e-44d1-b510-1b5b9183a4da",
   "metadata": {},
   "source": [
    "#Functions in Python\n",
    "Addition == +\n",
    "Subtraction == -\n",
    "Multiplication == *\n",
    "Division == /\n",
    "Moduolo == %\n",
    "division 2 == //\n"
   ]
  },
  {
   "cell_type": "code",
   "execution_count": 16,
   "id": "4e16fef4-78f0-480e-a8a9-6256a8966cab",
   "metadata": {},
   "outputs": [
    {
     "name": "stdout",
     "output_type": "stream",
     "text": [
      "3\n",
      "-1\n",
      "2\n",
      "0.5\n",
      "1\n",
      "0\n"
     ]
    }
   ],
   "source": [
    "print(a+b)\n",
    "print(a-b)\n",
    "print(a*b)\n",
    "print(a/b)\n",
    "print(a%b)\n",
    "print(a//b)"
   ]
  },
  {
   "cell_type": "code",
   "execution_count": 23,
   "id": "7fcfdf0d-2e20-4b59-acbe-b31fab6b94de",
   "metadata": {},
   "outputs": [
    {
     "name": "stdout",
     "output_type": "stream",
     "text": [
      "15\n",
      "5\n",
      "50\n",
      "2.0\n",
      "0\n",
      "2\n",
      "100000\n"
     ]
    }
   ],
   "source": [
    "a = 10\n",
    "b = 5\n",
    "c = 4\n",
    "print(a+b)\n",
    "print(a-b)\n",
    "print(a*b)\n",
    "print(a/b)\n",
    "print(a%b)\n",
    "print(a//b)                             #print(a^b)\n",
    "\n",
    "print(a**b)"
   ]
  },
  {
   "cell_type": "markdown",
   "id": "0efacf86-317c-47de-b2eb-c4440c33fe89",
   "metadata": {},
   "source": [
    "Python is case sensitive language"
   ]
  },
  {
   "cell_type": "code",
   "execution_count": 22,
   "id": "0b49a80e-0383-4983-b540-70eed0837e37",
   "metadata": {},
   "outputs": [
    {
     "name": "stdout",
     "output_type": "stream",
     "text": [
      "False\n",
      "True\n",
      "False\n",
      "True\n",
      "False\n",
      "True\n"
     ]
    }
   ],
   "source": [
    "#Comparison opeartors\n",
    "print(a==b)\n",
    "print(a>b)\n",
    "print(a<b)\n",
    "print(a>=b)\n",
    "print(a<=b)\n",
    "print(a!=b)"
   ]
  },
  {
   "cell_type": "code",
   "execution_count": 25,
   "id": "c945daec-3812-457b-ac19-b680653de03d",
   "metadata": {},
   "outputs": [
    {
     "name": "stdout",
     "output_type": "stream",
     "text": [
      "True\n",
      "True\n",
      "True\n"
     ]
    }
   ],
   "source": [
    "#Logical Operators\n",
    "print((a>=b) and(a>=c))\n",
    "print((a>=b) or (a>=c))\n",
    "print(not(a==b))"
   ]
  },
  {
   "cell_type": "code",
   "execution_count": 26,
   "id": "cf22179a-9e44-4d8b-b814-e6f27e14a969",
   "metadata": {},
   "outputs": [
    {
     "name": "stdout",
     "output_type": "stream",
     "text": [
      "Area of triangle: 25.0\n"
     ]
    }
   ],
   "source": [
    "# Area of Triangle\n",
    "def triangle_area(base, height):\n",
    "    return 0.5 * base * height\n",
    "base = 10\n",
    "height = 5\n",
    "area = triangle_area(base, height)\n",
    "print(f\"Area of triangle: {area}\")"
   ]
  },
  {
   "cell_type": "code",
   "execution_count": 30,
   "id": "b2845c90-a2be-4a3e-8351-d716cdd8e165",
   "metadata": {},
   "outputs": [
    {
     "name": "stdin",
     "output_type": "stream",
     "text": [
      "Base of the triangle:  12\n",
      "Height of the triangle:  13\n"
     ]
    },
    {
     "name": "stdout",
     "output_type": "stream",
     "text": [
      "Area of the triangle: 78.0\n"
     ]
    }
   ],
   "source": [
    "base = float(input(\"Base of the triangle: \"))  \n",
    "height = float(input(\"Height of the triangle: \")) \n",
    "area = 0.5 * base * height\n",
    "print(\"Area of the triangle:\", area)"
   ]
  },
  {
   "cell_type": "code",
   "execution_count": 31,
   "id": "ddeeb13c-1a41-464c-bef6-36863511eeb1",
   "metadata": {},
   "outputs": [
    {
     "data": {
      "text/plain": [
       "int"
      ]
     },
     "execution_count": 31,
     "metadata": {},
     "output_type": "execute_result"
    }
   ],
   "source": [
    "z = 5\n",
    "z = int(z)\n",
    "type(z)"
   ]
  },
  {
   "cell_type": "code",
   "execution_count": 32,
   "id": "892322e6-fbcd-4d9f-a11d-1fa7fdb04a7b",
   "metadata": {},
   "outputs": [
    {
     "name": "stdout",
     "output_type": "stream",
     "text": [
      "a: 10, b: 5\n"
     ]
    }
   ],
   "source": [
    "# Swap 2 variables\n",
    "a = 5\n",
    "b = 10\n",
    "\n",
    "a, b = b, a\n",
    "\n",
    "print(f\"a: {a}, b: {b}\")"
   ]
  },
  {
   "cell_type": "code",
   "execution_count": 33,
   "id": "639b9a93-55c8-445d-ad5f-dd5dfdb77d3a",
   "metadata": {},
   "outputs": [
    {
     "name": "stdin",
     "output_type": "stream",
     "text": [
      "Num1: 12\n",
      "Num2: 13\n"
     ]
    },
    {
     "name": "stdout",
     "output_type": "stream",
     "text": [
      "Num1= 13\n",
      "Num2= 12\n"
     ]
    }
   ],
   "source": [
    "k = int(input(\"Num1:\"))\n",
    "l = int(input(\"Num2:\"))\n",
    "\n",
    "c = k\n",
    "k = l\n",
    "l = c\n",
    "\n",
    "print(\"Num1=\", k)\n",
    "print(\"Num2=\",l)\n"
   ]
  },
  {
   "cell_type": "code",
   "execution_count": 37,
   "id": "c76e1d0b-24bd-4bec-aafb-473317b1f26d",
   "metadata": {},
   "outputs": [
    {
     "name": "stdin",
     "output_type": "stream",
     "text": [
      "Enter length in centimeters:  158\n"
     ]
    },
    {
     "name": "stdout",
     "output_type": "stream",
     "text": [
      "158.0 cm = 5.18 feet\n"
     ]
    }
   ],
   "source": [
    "# convert centimeter to feet\n",
    "cm = float(input(\"Enter length in centimeters: \"))  \n",
    "feet = cm / 30.48 \n",
    "print(f\"{cm} cm = {feet:.2f} feet\")  "
   ]
  },
  {
   "cell_type": "code",
   "execution_count": 40,
   "id": "586d9b13-5953-4073-8858-a8450873a92b",
   "metadata": {},
   "outputs": [
    {
     "name": "stdin",
     "output_type": "stream",
     "text": [
      "Enter a number: 45\n"
     ]
    },
    {
     "name": "stdout",
     "output_type": "stream",
     "text": [
      "Number is odd.\n"
     ]
    }
   ],
   "source": [
    "# To check if number is even or odd\n",
    "num = int(input(\"Enter a number:\"))\n",
    "\n",
    "if num /2 == 0:\n",
    "    print(\"Number is even.\")\n",
    "else:\n",
    "    print(\"Number is odd.\")"
   ]
  },
  {
   "cell_type": "code",
   "execution_count": 41,
   "id": "417579a9-7e61-465e-a1c4-d9a3fe86970f",
   "metadata": {},
   "outputs": [
    {
     "name": "stdin",
     "output_type": "stream",
     "text": [
      "Enter a number: -98\n"
     ]
    },
    {
     "name": "stdout",
     "output_type": "stream",
     "text": [
      "Number is negative.\n"
     ]
    }
   ],
   "source": [
    "#positive, negative numbers\n",
    "num = int(input(\"Enter a number:\"))\n",
    "\n",
    "if num > 0:\n",
    "    print(\"Number is positive.\")\n",
    "elif num < 0: \n",
    "    print(\"Number is negative.\")\n",
    "elif num == 0:\n",
    "    print(\"Number is zero.\")\n",
    "else:\n",
    "    print(\"Invalid number.\")\n"
   ]
  },
  {
   "cell_type": "code",
   "execution_count": 43,
   "id": "4092f8d8-dac9-4bca-9caa-deb2f66efe07",
   "metadata": {},
   "outputs": [
    {
     "name": "stdin",
     "output_type": "stream",
     "text": [
      "Enter number of terms:  5\n"
     ]
    },
    {
     "name": "stdout",
     "output_type": "stream",
     "text": [
      "Fibonacci Series: [0, 1, 1, 2, 3]\n"
     ]
    }
   ],
   "source": [
    "#fibonacci series\n",
    "n = int(input(\"Enter number of terms: \"))\n",
    "fib = [0, 1]\n",
    "\n",
    "for i in range(2, n):\n",
    "    fib.append(fib[i-1] + fib[i-2])\n",
    "\n",
    "print(\"Fibonacci Series:\", fib[:n])"
   ]
  },
  {
   "cell_type": "code",
   "execution_count": 44,
   "id": "13b028e7-68b0-4c8d-8bc4-d5e2162cdd9d",
   "metadata": {},
   "outputs": [
    {
     "name": "stdout",
     "output_type": "stream",
     "text": [
      "0\n",
      "1\n",
      "1\n",
      "2\n",
      "3\n",
      "5\n",
      "8\n",
      "13\n",
      "21\n"
     ]
    }
   ],
   "source": [
    "a = 0\n",
    "b = 1\n",
    "print(a)  \n",
    "print(b)  \n",
    "\n",
    "while b < 20:  \n",
    "    c = a + b  \n",
    "    print(c)\n",
    "    a = b      \n",
    "    b = c"
   ]
  },
  {
   "cell_type": "code",
   "execution_count": 45,
   "id": "331376b0-2d31-44f9-a5a5-f94071ce3b09",
   "metadata": {},
   "outputs": [
    {
     "name": "stdin",
     "output_type": "stream",
     "text": [
      "Enter a number:  8\n"
     ]
    },
    {
     "name": "stdout",
     "output_type": "stream",
     "text": [
      "Factorial of 8 is 40320\n"
     ]
    }
   ],
   "source": [
    "# Factorial of a number\n",
    "n = int(input(\"Enter a number: \"))\n",
    "factorial = 1\n",
    "i = 1\n",
    "\n",
    "if n < 0:\n",
    "    print(\"Factorial does not exist for negative numbers!\")\n",
    "elif n == 0:\n",
    "    print(\"Factorial of 0 is 1\")\n",
    "else:\n",
    "    while i <= n:\n",
    "        factorial *= i\n",
    "        i += 1\n",
    "    print(f\"Factorial of {n} is {factorial}\")"
   ]
  },
  {
   "cell_type": "code",
   "execution_count": 46,
   "id": "ad8b1d6c-a51d-41b9-b17f-63dd5605c5a5",
   "metadata": {},
   "outputs": [
    {
     "name": "stdin",
     "output_type": "stream",
     "text": [
      "Enter a number:  8\n"
     ]
    },
    {
     "name": "stdout",
     "output_type": "stream",
     "text": [
      "Factorial of 8 is 40320\n"
     ]
    }
   ],
   "source": [
    "import math\n",
    "\n",
    "n = int(input(\"Enter a number: \"))\n",
    "if n < 0:\n",
    "    print(\"Factorial does not exist for negative numbers\")\n",
    "else:\n",
    "    print(f\"Factorial of {n} is {math.factorial(n)}\")"
   ]
  },
  {
   "cell_type": "code",
   "execution_count": 49,
   "id": "aad149c2-f9f3-4a1b-afaa-3668de0258ca",
   "metadata": {},
   "outputs": [
    {
     "name": "stdin",
     "output_type": "stream",
     "text": [
      "Enter a number:  6\n"
     ]
    },
    {
     "name": "stdout",
     "output_type": "stream",
     "text": [
      "720\n"
     ]
    }
   ],
   "source": [
    "n = int(input(\"Enter a number: \"))\n",
    "fact = 1\n",
    "while n > 0:\n",
    "    fact *= n\n",
    "    n -= 1\n",
    "print(fact)\n"
   ]
  },
  {
   "cell_type": "code",
   "execution_count": null,
   "id": "6bc5035c-2ac3-452f-a61e-4e1a7d94feec",
   "metadata": {},
   "outputs": [],
   "source": []
  }
 ],
 "metadata": {
  "kernelspec": {
   "display_name": "Python 3 (ipykernel)",
   "language": "python",
   "name": "python3"
  },
  "language_info": {
   "codemirror_mode": {
    "name": "ipython",
    "version": 3
   },
   "file_extension": ".py",
   "mimetype": "text/x-python",
   "name": "python",
   "nbconvert_exporter": "python",
   "pygments_lexer": "ipython3",
   "version": "3.12.7"
  }
 },
 "nbformat": 4,
 "nbformat_minor": 5
}
