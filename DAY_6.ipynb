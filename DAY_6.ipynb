{
 "cells": [
  {
   "cell_type": "markdown",
   "id": "f2f81613-4dc5-4079-945c-fbdedd72e815",
   "metadata": {},
   "source": [
    "# OOPS concepts"
   ]
  },
  {
   "cell_type": "markdown",
   "id": "7e7ef26c-2158-4abe-ad01-727a14c80e17",
   "metadata": {},
   "source": [
    "# Classes & Objects"
   ]
  },
  {
   "cell_type": "code",
   "execution_count": null,
   "id": "c9f665e5-c48e-491f-ad25-f77bb0411b6e",
   "metadata": {},
   "outputs": [],
   "source": [
    "class Mobile:\n",
    "    def _init_(self):\n",
    "        self.model = \"RealMe.X\"\n",
    "    def show_model"
   ]
  },
  {
   "cell_type": "code",
   "execution_count": 4,
   "id": "ed10e456-d718-40a1-ac42-bbf38b8ca1c6",
   "metadata": {},
   "outputs": [
    {
     "name": "stdout",
     "output_type": "stream",
     "text": [
      "67\n"
     ]
    }
   ],
   "source": [
    "class Maths():\n",
    "    def __init__(self):\n",
    "        self.num1 = 29\n",
    "        self.num2 = 38\n",
    "\n",
    "    def add(self):\n",
    "        return self.num1 + self.num2\n",
    "\n",
    "x = Maths()\n",
    "x.add()\n",
    "print(x.add())"
   ]
  },
  {
   "cell_type": "code",
   "execution_count": 8,
   "id": "e6a83aa2-e58e-4aa4-baa5-383505f9c842",
   "metadata": {},
   "outputs": [
    {
     "name": "stdout",
     "output_type": "stream",
     "text": [
      "80\n"
     ]
    }
   ],
   "source": [
    "class Maths():\n",
    "    def __init__(self, num1, num2):\n",
    "        self.num1 = num1\n",
    "        self.num2 = num2\n",
    "\n",
    "    def add(self):\n",
    "        return self.num1 + self.num2\n",
    "\n",
    "x = Maths(50,30)\n",
    "x.add()\n",
    "print(x.add())"
   ]
  },
  {
   "cell_type": "code",
   "execution_count": 10,
   "id": "60cc43cb-223f-4b51-8b13-2d0c67fc20a2",
   "metadata": {},
   "outputs": [
    {
     "name": "stdout",
     "output_type": "stream",
     "text": [
      "Model: Realme X and Price: 1000\n"
     ]
    }
   ],
   "source": [
    "class Mobile:\n",
    "    def __init__(self,a):\n",
    "        self.model = a\n",
    "    def show_model(self, p):\n",
    "        price = p\n",
    "        print(\"Model:\", self.model, \"and Price:\", price)\n",
    "\n",
    "realme = Mobile(\"Realme X\")\n",
    "\n",
    "realme.show_model(1000)"
   ]
  },
  {
   "cell_type": "code",
   "execution_count": 11,
   "id": "e5a8d225-a2ab-4e7a-95fa-36d5882e2c21",
   "metadata": {},
   "outputs": [
    {
     "name": "stdout",
     "output_type": "stream",
     "text": [
      "Model: Realme X and Price: 1000\n",
      "Nokia\n"
     ]
    }
   ],
   "source": [
    "class Mobile:\n",
    "    def __init__(self,a):\n",
    "        self.model = a\n",
    "        \n",
    "    def show_model(self, p):\n",
    "        price = p          #local variable\n",
    "        print(\"Model:\", self.model, \"and Price:\", price)\n",
    "\n",
    "realme = Mobile(\"Realme X\")   #passing argument to constructor\n",
    "\n",
    "realme.show_model(1000)   #accessing method from outside of the class\n",
    "realme.model = \"Nokia\"\n",
    "print(realme.model)"
   ]
  },
  {
   "cell_type": "code",
   "execution_count": null,
   "id": "a8eccb3f-6ede-458a-affe-48a9e34fe5fa",
   "metadata": {},
   "outputs": [],
   "source": [
    "class Mobile:\n",
    "    def __init__(self,a):\n",
    "        self.model = a\n",
    "        \n",
    "    def show_model(self, p):\n",
    "        price = p          #local variable\n",
    "        print(\"Model:\", self.model, \"and Price:\", price)\n",
    "\n",
    "realme = Mobile(\"Realme X\")   #passing argument to constructor\n",
    "realme.show_model(1000)   #accessing method from outside of the class\n",
    "print(id(realme1))\n",
    "\n"
   ]
  },
  {
   "cell_type": "code",
   "execution_count": 13,
   "id": "e7ed776b-2238-44ae-a855-b32475fb411a",
   "metadata": {},
   "outputs": [
    {
     "name": "stdout",
     "output_type": "stream",
     "text": [
      "Model: Realme X and Price: 15000\n",
      "Volume: 80\n"
     ]
    }
   ],
   "source": [
    "class Mobile:\n",
    "    def __init__(self,a,v):\n",
    "        self.model = a\n",
    "        self.volume = v\n",
    "    def show_model(self, p):\n",
    "        price = p          #local variable\n",
    "        print(\"Model:\", self.model, \"and Price:\", price)\n",
    "        print(\"Volume:\", self.volume)\n",
    "\n",
    "realme = Mobile(\"Realme X\",80)\n",
    "\n",
    "realme.show_model(15000)\n"
   ]
  },
  {
   "cell_type": "code",
   "execution_count": 24,
   "id": "3e5932c7-6ad2-4cdc-88f3-890a06cb086a",
   "metadata": {},
   "outputs": [
    {
     "name": "stdout",
     "output_type": "stream",
     "text": [
      "30\n",
      "50\n",
      "60\n",
      "100\n"
     ]
    }
   ],
   "source": [
    "class Maths():\n",
    "    def __init__(self, num1, num2, num3):\n",
    "        self.num1 = num1\n",
    "        self._num2 = num2\n",
    "        self.__num3 = num3\n",
    "\n",
    "    def set_num3(self, num3):\n",
    "        self.__num3 = num3\n",
    "        \n",
    "    def get_num3(self):\n",
    "        return self.__num3\n",
    "        \n",
    "    def add(self):\n",
    "        return self.num1 + self._num2\n",
    "\n",
    "x = Maths(30,50,60)\n",
    "\n",
    "print(x.num1)\n",
    "print(x._num2)\n",
    "\n",
    "print(x.get_num3())\n",
    "\n",
    "x.set_num3(100)\n",
    "print(x.get_num3())"
   ]
  },
  {
   "cell_type": "code",
   "execution_count": null,
   "id": "128119b7-d44e-4872-81df-78eff918141d",
   "metadata": {},
   "outputs": [],
   "source": [
    "# Nested Class\n",
    "class Array:\n",
    "    def __init__(self):\n",
    "        self.name = \"Rahul\"\n",
    "        self.gn = self.Gun()\n",
    "    \n",
    "    def show(self):\n",
    "        print(\"Name:\",self.name)\n",
    "    class Gun:\n",
    "        def __init__\n"
   ]
  },
  {
   "cell_type": "markdown",
   "id": "30749e99-8d15-43b4-844c-23d7b504f8ce",
   "metadata": {},
   "source": [
    "# Inheritence"
   ]
  },
  {
   "cell_type": "code",
   "execution_count": null,
   "id": "27dade9e-3e0f-426f-8067-ba2a29de7af7",
   "metadata": {},
   "outputs": [],
   "source": [
    "#Inheritence\n",
    "\n",
    "class Father:\n",
    "    def __init__(self):\n",
    "        self.money = 100000\n",
    "        print(\"Father class constructor\")\n",
    "    \n",
    "    def show(self):\n",
    "        print(\"Parent class instance method:\")\n",
    "\n",
    "class Son(Father):\n",
    "    def disp(self):\n",
    "        print(\"Son Class Instance Method:\", self.money)\n",
    "\n",
    "s = Son()\n",
    "s.disp()\n",
    "print(\"Father Instance Variable\", s.money)\n",
    "s.show()"
   ]
  },
  {
   "cell_type": "code",
   "execution_count": 30,
   "id": "49ed623b-c4a1-4fbe-9577-16fd658f54a1",
   "metadata": {},
   "outputs": [
    {
     "name": "stdout",
     "output_type": "stream",
     "text": [
      "Grandson Class Constructor.\n",
      "Grandson Class method.\n"
     ]
    }
   ],
   "source": [
    "# Multilevel inhertence\n",
    "\n",
    "class Father:\n",
    "    def __init__(self):\n",
    "        self.money = 100000\n",
    "        print(\"Father class constructor\")\n",
    "    \n",
    "    def show(self):\n",
    "        print(\"Parent class instance method:\")\n",
    "\n",
    "class Son(Father):\n",
    "    def __init__(self):\n",
    "        print(\"Son class constructor.\")\n",
    "    def show(self):\n",
    "        print(\"Son class method\")\n",
    "\n",
    "class Grandson(Son):\n",
    "    def __init__(self):\n",
    "        print(\"Grandson Class Constructor.\")\n",
    "    def show(self):\n",
    "        print(\"Grandson Class method.\")\n",
    "\n",
    "g = Grandson()\n",
    "g.show()\n",
    "\n"
   ]
  },
  {
   "cell_type": "markdown",
   "id": "7b6bc582-0608-4f5a-b932-b831826bd31a",
   "metadata": {},
   "source": [
    "# Polymorhism \n",
    "The word \"polymorphism\" means \"many forms\", and in programming it refers to methods/functions/operators with the same name that can be executed on many objects or classes."
   ]
  },
  {
   "cell_type": "code",
   "execution_count": 31,
   "id": "3440cdad-5914-4b4e-976f-d08675e891ae",
   "metadata": {},
   "outputs": [
    {
     "name": "stdout",
     "output_type": "stream",
     "text": [
      "None\n",
      "Meow!\n",
      "Quack!\n",
      "5\n",
      "3\n"
     ]
    }
   ],
   "source": [
    "class Animal:\n",
    "    def speak(self):\n",
    "        pass\n",
    "\n",
    "class Dog(Animal):\n",
    "    def spaeak(self):\n",
    "        return \"Woof!\"\n",
    "\n",
    "class Cat(Animal):\n",
    "    def speak(self):\n",
    "        return \"Meow!\"\n",
    "\n",
    "class Duck(Animal):\n",
    "    def speak(self):\n",
    "        return \"Quack!\"\n",
    "\n",
    "def animal_sound(animal):\n",
    "    print(animal.speak())\n",
    "\n",
    "dog = Dog()\n",
    "cat = Cat()\n",
    "duck = Duck()\n",
    "\n",
    "animal_sound(dog)\n",
    "animal_sound(cat)\n",
    "animal_sound(duck)\n",
    "\n",
    "print(len(\"Hello\"))\n",
    "print(len([1,2,3]))\n"
   ]
  },
  {
   "cell_type": "code",
   "execution_count": null,
   "id": "4db4c34f-1ab6-43da-9689-17e532416ce2",
   "metadata": {},
   "outputs": [],
   "source": []
  }
 ],
 "metadata": {
  "kernelspec": {
   "display_name": "Python 3 (ipykernel)",
   "language": "python",
   "name": "python3"
  },
  "language_info": {
   "codemirror_mode": {
    "name": "ipython",
    "version": 3
   },
   "file_extension": ".py",
   "mimetype": "text/x-python",
   "name": "python",
   "nbconvert_exporter": "python",
   "pygments_lexer": "ipython3",
   "version": "3.12.7"
  }
 },
 "nbformat": 4,
 "nbformat_minor": 5
}
