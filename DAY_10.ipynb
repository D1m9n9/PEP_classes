{
 "cells": [
  {
   "cell_type": "code",
   "execution_count": 1,
   "id": "d69f043f-506c-46c4-9f78-f8fe63922371",
   "metadata": {},
   "outputs": [
    {
     "data": {
      "text/plain": [
       "<bound method Test.m1 of <__main__.Test object at 0x00000224DC657CE0>>"
      ]
     },
     "execution_count": 1,
     "metadata": {},
     "output_type": "execute_result"
    }
   ],
   "source": [
    "#Constructors\n",
    "class Test(object):\n",
    "    def m1(self):\n",
    "        print(\"Hello World\")\n",
    "\n",
    "x = Test()\n",
    "x.m1"
   ]
  },
  {
   "cell_type": "code",
   "execution_count": 2,
   "id": "009875bf-6d57-475e-8953-895b89cc4965",
   "metadata": {},
   "outputs": [
    {
     "name": "stdout",
     "output_type": "stream",
     "text": [
      "i am a constructor\n"
     ]
    },
    {
     "data": {
      "text/plain": [
       "<bound method Test.m1 of <__main__.Test object at 0x00000224DC657B30>>"
      ]
     },
     "execution_count": 2,
     "metadata": {},
     "output_type": "execute_result"
    }
   ],
   "source": [
    "class Test(object):\n",
    "    def __init__(self):\n",
    "        print(\"i am a constructor\")\n",
    "\n",
    "    \n",
    "    def m1(self):\n",
    "        print(\"Hello World\")\n",
    "\n",
    "x = Test()\n",
    "x.m1"
   ]
  },
  {
   "cell_type": "code",
   "execution_count": 5,
   "id": "c581732d-da87-424d-8a44-9b1f7aa10070",
   "metadata": {},
   "outputs": [],
   "source": [
    "class ATM:\n",
    "    def __init__(self):\n",
    "        self.balance = 0\n",
    "        \n",
    "    def deposit():\n",
    "        amount = input(\"enter the amount to be deposited:\")\n",
    "        self.balance += amount\n",
    "        print(self.balance)\n",
    "        \n",
    "    def check_balance():\n",
    "        print(\"current balance\",self.balance)\n",
    "        \n",
    "    def withdraw():\n",
    "        amount = input(\"enter the amount to withdraw:\")\n",
    "        self.balance -= amount\n",
    "        print(\"amount withdrawn\",amount)\n",
    "        \n"
   ]
  },
  {
   "cell_type": "code",
   "execution_count": 7,
   "id": "1114de79-d93d-43bf-abec-ffa46184d924",
   "metadata": {},
   "outputs": [
    {
     "name": "stdout",
     "output_type": "stream",
     "text": [
      "Child Class Instance Method\n",
      "Parent Class Instance Method\n"
     ]
    }
   ],
   "source": [
    "#OOPS\n",
    "#Inheritance\n",
    "class Father:\n",
    "    def show(self):\n",
    "        print(\"Parent Class Instance Method\")\n",
    "\n",
    "class Son(Father):\n",
    "    def disp(self):\n",
    "        print(\"Child Class Instance Method\")\n",
    "\n",
    "s= Son()\n",
    "s.disp()\n",
    "s.show()"
   ]
  },
  {
   "cell_type": "code",
   "execution_count": 8,
   "id": "abba76af-64c0-4025-b584-c34c75f96948",
   "metadata": {},
   "outputs": [
    {
     "name": "stdout",
     "output_type": "stream",
     "text": [
      "Child Class Instance Method\n",
      "Parent Class Instance Method\n"
     ]
    }
   ],
   "source": [
    "class Father:\n",
    "    def show(self):\n",
    "        print(\"Parent Class Instance Method\")\n",
    "\n",
    "class Son(Father):\n",
    "    def disp(self):\n",
    "        print(\"Child Class Instance Method\")\n",
    "\n",
    "\n",
    "s= Son()\n",
    "s.disp()\n",
    "s.show()"
   ]
  },
  {
   "cell_type": "code",
   "execution_count": 9,
   "id": "1c7d5321-2f47-42a1-aa41-413ec82361b9",
   "metadata": {},
   "outputs": [
    {
     "name": "stdout",
     "output_type": "stream",
     "text": [
      "Father Class Method\n",
      "Son Class Method\n",
      "Father Class Method\n",
      "Son Class Method\n",
      "Grandson Class Method\n"
     ]
    }
   ],
   "source": [
    "class Father:\n",
    "    def showF(self):\n",
    "        print(\"Father Class Method\")\n",
    "\n",
    "class Son(Father):\n",
    "    def showS(self):\n",
    "        print(\"Son Class Method\")\n",
    "\n",
    "class Grandson(Son):\n",
    "    def showG(self):\n",
    "        print(\"Grandson Class Method\")\n",
    "\n",
    "s = Son()\n",
    "s.showF()  \n",
    "s.showS()  \n",
    "\n",
    "g = Grandson()\n",
    "g.showF()  \n",
    "g.showS()\n",
    "g.showG()  "
   ]
  },
  {
   "cell_type": "code",
   "execution_count": 10,
   "id": "9dccd81f-7c11-4aa1-ae12-f8314fcb355f",
   "metadata": {},
   "outputs": [
    {
     "name": "stdout",
     "output_type": "stream",
     "text": [
      "Car started\n",
      "Vehicle stopped\n"
     ]
    }
   ],
   "source": [
    "#abstraction\n",
    "from abc import ABC, abstractmethod\n",
    "\n",
    "class Vehicle(ABC):  # Abstract class\n",
    "    @abstractmethod\n",
    "    def start(self):  # Abstract method (no implementation)\n",
    "        pass\n",
    "    \n",
    "    def stop(self):   # Concrete method (has implementation)\n",
    "        print(\"Vehicle stopped\")\n",
    "\n",
    "class Car(Vehicle):\n",
    "    def start(self):  # Must implement abstract method\n",
    "        print(\"Car started\")\n",
    "\n",
    "car = Car()\n",
    "car.start()  # Output: \"Car started\"\n",
    "car.stop()   # Output: \"Vehicle stopped\"\n"
   ]
  },
  {
   "cell_type": "code",
   "execution_count": 12,
   "id": "035def25-956e-4892-b9a8-6d19fc1607d5",
   "metadata": {},
   "outputs": [
    {
     "name": "stdout",
     "output_type": "stream",
     "text": [
      "Original List: [10, 20, 30, 40, 50]\n",
      "Second Element: 20\n",
      "After Modification: [10, 20, 99, 40, 50]\n"
     ]
    }
   ],
   "source": [
    "#list declaration, fetching and modification\n",
    "list = [10, 20, 30, 40, 50]  \n",
    "print(\"Original List:\", list)  \n",
    "second_element = list[1]  \n",
    "print(\"Second Element:\", second_element)\n",
    "list[2] = 99  \n",
    "print(\"After Modification:\", list)"
   ]
  },
  {
   "cell_type": "code",
   "execution_count": 13,
   "id": "bd086560-2c30-484b-9d6e-8bd02044771e",
   "metadata": {},
   "outputs": [
    {
     "name": "stdout",
     "output_type": "stream",
     "text": [
      "Original Set: {50, 20, 40, 10, 30}\n",
      "20 is in the set\n",
      "An element from the set: 50\n",
      "After add(60): {50, 20, 40, 10, 60, 30}\n"
     ]
    }
   ],
   "source": [
    "#set\n",
    "my_set = {10, 20, 30, 40, 50}\n",
    "print(\"Original Set:\", my_set)\n",
    "\n",
    "if 20 in my_set:\n",
    "    print(\"20 is in the set\")\n",
    "\n",
    "element = next(iter(my_set))\n",
    "print(\"An element from the set:\", element)\n",
    "\n",
    "my_set.add(60)  \n",
    "print(\"After add(60):\", my_set)"
   ]
  },
  {
   "cell_type": "code",
   "execution_count": 14,
   "id": "bc294644-5dec-421e-82af-c65c2f8f3f7f",
   "metadata": {},
   "outputs": [
    {
     "name": "stdout",
     "output_type": "stream",
     "text": [
      "Original: {'name': 'Alex', 'age': 25, 'city': 'Paris'}\n",
      "Name: Alex\n",
      "Age: 25\n",
      "Country: Unknown\n"
     ]
    }
   ],
   "source": [
    "#dictionary\n",
    "person = { \"name\": \"Alex\",\"age\": 25,\"city\": \"Paris\"}\n",
    "print(\"Original:\", person)\n",
    "\n",
    "print(\"Name:\", person[\"name\"])  \n",
    "print(\"Age:\", person.get(\"age\"))  \n",
    "print(\"Country:\", person.get(\"country\", \"Unknown\"))\n",
    "\n",
    "person[\"age\"] = 26"
   ]
  },
  {
   "cell_type": "code",
   "execution_count": null,
   "id": "42302023-c2d6-4239-92ba-6a134708f034",
   "metadata": {},
   "outputs": [],
   "source": []
  }
 ],
 "metadata": {
  "kernelspec": {
   "display_name": "Python 3 (ipykernel)",
   "language": "python",
   "name": "python3"
  },
  "language_info": {
   "codemirror_mode": {
    "name": "ipython",
    "version": 3
   },
   "file_extension": ".py",
   "mimetype": "text/x-python",
   "name": "python",
   "nbconvert_exporter": "python",
   "pygments_lexer": "ipython3",
   "version": "3.12.7"
  }
 },
 "nbformat": 4,
 "nbformat_minor": 5
}
